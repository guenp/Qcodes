{
 "cells": [
  {
   "cell_type": "markdown",
   "metadata": {},
   "source": [
    "# DataSet Performance\n",
    "\n",
    "This notebook shows the trade-off between inserting data into a database row-by-row and as binary blobs. Inserting the data row-by-row means that we have direct access to all the data and may perform queries directly on the values of the data. On the other hand, as we shall see, this is much slower than inserting the data directly as binary blobs."
   ]
  },
  {
   "cell_type": "markdown",
   "metadata": {},
   "source": [
    "First, we choose a new location for the database to ensure that we don't add a bunch of benchmarking data to the default one."
   ]
  },
  {
   "cell_type": "code",
   "execution_count": 1,
   "metadata": {
    "execution": {
     "iopub.execute_input": "2021-04-08T06:51:34.373245Z",
     "iopub.status.busy": "2021-04-08T06:51:34.372566Z",
     "iopub.status.idle": "2021-04-08T06:51:35.557659Z",
     "shell.execute_reply": "2021-04-08T06:51:35.558200Z"
    }
   },
   "outputs": [
    {
     "name": "stdout",
     "output_type": "stream",
     "text": [
      "Logging hadn't been started.\n",
      "Activating auto-logging. Current session state plus future input saved.\n",
      "Filename       : /home/runner/.qcodes/logs/command_history.log\n",
      "Mode           : append\n",
      "Output logging : True\n",
      "Raw input log  : False\n",
      "Timestamping   : True\n",
      "State          : active\n"
     ]
    },
    {
     "name": "stdout",
     "output_type": "stream",
     "text": [
      "Qcodes Logfile : /home/runner/.qcodes/logs/210408-4802-qcodes.log\n"
     ]
    }
   ],
   "source": [
    "import os\n",
    "cwd = os.getcwd()\n",
    "import qcodes as qc\n",
    "qc.config[\"core\"][\"db_location\"] = os.path.join(cwd, 'testing.db')\n"
   ]
  },
  {
   "cell_type": "code",
   "execution_count": 2,
   "metadata": {
    "execution": {
     "iopub.execute_input": "2021-04-08T06:51:35.567206Z",
     "iopub.status.busy": "2021-04-08T06:51:35.565573Z",
     "iopub.status.idle": "2021-04-08T06:51:35.840757Z",
     "shell.execute_reply": "2021-04-08T06:51:35.839672Z"
    }
   },
   "outputs": [],
   "source": [
    "%matplotlib inline\n",
    "import time\n",
    "import matplotlib.pyplot as plt\n",
    "import numpy as np\n",
    "\n",
    "import qcodes as qc\n",
    "from qcodes.instrument.parameter import ManualParameter\n",
    "from qcodes.dataset.experiment_container import (Experiment,\n",
    "                                                 load_last_experiment,\n",
    "                                                 new_experiment)\n",
    "from qcodes.dataset.sqlite.database import initialise_database\n",
    "from qcodes import load_or_create_experiment\n",
    "from qcodes.dataset.measurements import Measurement"
   ]
  },
  {
   "cell_type": "code",
   "execution_count": 3,
   "metadata": {
    "execution": {
     "iopub.execute_input": "2021-04-08T06:51:35.845432Z",
     "iopub.status.busy": "2021-04-08T06:51:35.844535Z",
     "iopub.status.idle": "2021-04-08T06:51:35.943384Z",
     "shell.execute_reply": "2021-04-08T06:51:35.942748Z"
    }
   },
   "outputs": [
    {
     "name": "stdout",
     "output_type": "stream",
     "text": [
      "\r",
      "0it [00:00, ?it/s]"
     ]
    },
    {
     "name": "stdout",
     "output_type": "stream",
     "text": [
      "\r",
      "Upgrading database; v0 -> v1: : 0it [00:00, ?it/s]"
     ]
    },
    {
     "name": "stdout",
     "output_type": "stream",
     "text": [
      "\r",
      "Upgrading database; v0 -> v1: : 0it [00:00, ?it/s]"
     ]
    },
    {
     "name": "stdout",
     "output_type": "stream",
     "text": [
      "\n",
      "\r",
      "  0%|          | 0/1 [00:00<?, ?it/s]"
     ]
    },
    {
     "name": "stdout",
     "output_type": "stream",
     "text": [
      "\r",
      "Upgrading database; v1 -> v2:   0%|          | 0/1 [00:00<?, ?it/s]"
     ]
    },
    {
     "name": "stdout",
     "output_type": "stream",
     "text": [
      "\r",
      "Upgrading database; v1 -> v2: 100%|██████████| 1/1 [00:00<00:00, 392.06it/s]"
     ]
    },
    {
     "name": "stdout",
     "output_type": "stream",
     "text": [
      "\n",
      "\r",
      "0it [00:00, ?it/s]"
     ]
    },
    {
     "name": "stdout",
     "output_type": "stream",
     "text": [
      "\r",
      "Upgrading database; v2 -> v3: : 0it [00:00, ?it/s]"
     ]
    },
    {
     "name": "stdout",
     "output_type": "stream",
     "text": [
      "\r",
      "Upgrading database; v2 -> v3: : 0it [00:00, ?it/s]"
     ]
    },
    {
     "name": "stdout",
     "output_type": "stream",
     "text": [
      "\n",
      "\r",
      "0it [00:00, ?it/s]"
     ]
    },
    {
     "name": "stdout",
     "output_type": "stream",
     "text": [
      "\r",
      "Upgrading database; v3 -> v4: : 0it [00:00, ?it/s]"
     ]
    },
    {
     "name": "stdout",
     "output_type": "stream",
     "text": [
      "\r",
      "Upgrading database; v3 -> v4: : 0it [00:00, ?it/s]"
     ]
    },
    {
     "name": "stdout",
     "output_type": "stream",
     "text": [
      "\n",
      "\r",
      "  0%|          | 0/1 [00:00<?, ?it/s]"
     ]
    },
    {
     "name": "stdout",
     "output_type": "stream",
     "text": [
      "\r",
      "Upgrading database; v4 -> v5:   0%|          | 0/1 [00:00<?, ?it/s]"
     ]
    },
    {
     "name": "stdout",
     "output_type": "stream",
     "text": [
      "\r",
      "Upgrading database; v4 -> v5: 100%|██████████| 1/1 [00:00<00:00, 414.62it/s]"
     ]
    },
    {
     "name": "stdout",
     "output_type": "stream",
     "text": [
      "\n",
      "\r",
      "0it [00:00, ?it/s]"
     ]
    },
    {
     "name": "stdout",
     "output_type": "stream",
     "text": [
      "\r",
      "Upgrading database; v5 -> v6: : 0it [00:00, ?it/s]"
     ]
    },
    {
     "name": "stdout",
     "output_type": "stream",
     "text": [
      "\r",
      "Upgrading database; v5 -> v6: : 0it [00:00, ?it/s]"
     ]
    },
    {
     "name": "stdout",
     "output_type": "stream",
     "text": [
      "\n",
      "\r",
      "  0%|          | 0/1 [00:00<?, ?it/s]"
     ]
    },
    {
     "name": "stdout",
     "output_type": "stream",
     "text": [
      "\r",
      "Upgrading database; v6 -> v7:   0%|          | 0/1 [00:00<?, ?it/s]"
     ]
    },
    {
     "name": "stdout",
     "output_type": "stream",
     "text": [
      "\r",
      "Upgrading database; v6 -> v7: 100%|██████████| 1/1 [00:00<00:00, 205.09it/s]"
     ]
    },
    {
     "name": "stdout",
     "output_type": "stream",
     "text": [
      "\n",
      "\r",
      "  0%|          | 0/1 [00:00<?, ?it/s]"
     ]
    },
    {
     "name": "stdout",
     "output_type": "stream",
     "text": [
      "\r",
      "Upgrading database; v7 -> v8:   0%|          | 0/1 [00:00<?, ?it/s]"
     ]
    },
    {
     "name": "stdout",
     "output_type": "stream",
     "text": [
      "\r",
      "Upgrading database; v7 -> v8: 100%|██████████| 1/1 [00:00<00:00, 285.91it/s]"
     ]
    },
    {
     "name": "stdout",
     "output_type": "stream",
     "text": [
      "\n",
      "\r",
      "  0%|          | 0/1 [00:00<?, ?it/s]"
     ]
    },
    {
     "name": "stdout",
     "output_type": "stream",
     "text": [
      "\r",
      "Upgrading database; v8 -> v9:   0%|          | 0/1 [00:00<?, ?it/s]"
     ]
    },
    {
     "name": "stdout",
     "output_type": "stream",
     "text": [
      "\r",
      "Upgrading database; v8 -> v9: 100%|██████████| 1/1 [00:00<00:00, 380.85it/s]"
     ]
    },
    {
     "name": "stdout",
     "output_type": "stream",
     "text": [
      "\n"
     ]
    }
   ],
   "source": [
    "initialise_database()\n",
    "exp = load_or_create_experiment(experiment_name='tutorial_exp', sample_name=\"no sample\")"
   ]
  },
  {
   "cell_type": "markdown",
   "metadata": {},
   "source": [
    "Here, we define a simple function to benchmark the time it takes to insert n points with either numeric or array data type.\n",
    "We will compare both the time used to call ``add_result`` and the time used for the full measurement."
   ]
  },
  {
   "cell_type": "code",
   "execution_count": 4,
   "metadata": {
    "execution": {
     "iopub.execute_input": "2021-04-08T06:51:35.954148Z",
     "iopub.status.busy": "2021-04-08T06:51:35.951844Z",
     "iopub.status.idle": "2021-04-08T06:51:35.957778Z",
     "shell.execute_reply": "2021-04-08T06:51:35.957191Z"
    }
   },
   "outputs": [],
   "source": [
    "def insert_data(paramtype, npoints, nreps=1):\n",
    "\n",
    "    meas = Measurement(exp=exp)\n",
    "\n",
    "    x1 = ManualParameter('x1')\n",
    "    x2 = ManualParameter('x2')\n",
    "    x3 = ManualParameter('x3')\n",
    "    y1 = ManualParameter('y1')\n",
    "    y2 = ManualParameter('y2')\n",
    "\n",
    "    meas.register_parameter(x1, paramtype=paramtype)\n",
    "    meas.register_parameter(x2, paramtype=paramtype)\n",
    "    meas.register_parameter(x3, paramtype=paramtype)\n",
    "    meas.register_parameter(y1, setpoints=[x1, x2, x3],\n",
    "                            paramtype=paramtype)\n",
    "    meas.register_parameter(y2, setpoints=[x1, x2, x3],\n",
    "                            paramtype=paramtype)\n",
    "    start = time.perf_counter()\n",
    "    with meas.run() as datasaver:\n",
    "        start_adding = time.perf_counter()\n",
    "        for i in range(nreps):\n",
    "            datasaver.add_result((x1, np.random.rand(npoints)),\n",
    "                                 (x2, np.random.rand(npoints)),\n",
    "                                 (x3, np.random.rand(npoints)),\n",
    "                                 (y1, np.random.rand(npoints)),\n",
    "                                 (y2, np.random.rand(npoints)))\n",
    "        stop_adding = time.perf_counter()\n",
    "        run_id = datasaver.run_id\n",
    "    stop = time.perf_counter()\n",
    "    tot_time = stop - start\n",
    "    add_time = stop_adding - start_adding\n",
    "    return tot_time, add_time, run_id"
   ]
  },
  {
   "cell_type": "markdown",
   "metadata": {},
   "source": [
    "## Comparison between numeric/array data and binary blob"
   ]
  },
  {
   "cell_type": "markdown",
   "metadata": {},
   "source": [
    "### Case1: Short experiment time"
   ]
  },
  {
   "cell_type": "code",
   "execution_count": 5,
   "metadata": {
    "execution": {
     "iopub.execute_input": "2021-04-08T06:51:35.964994Z",
     "iopub.status.busy": "2021-04-08T06:51:35.964203Z",
     "iopub.status.idle": "2021-04-08T06:51:36.888827Z",
     "shell.execute_reply": "2021-04-08T06:51:36.888260Z"
    }
   },
   "outputs": [
    {
     "name": "stdout",
     "output_type": "stream",
     "text": [
      "Starting experimental run with id: 1. \n",
      "Starting experimental run with id: 2. \n",
      "Starting experimental run with id: 3. \n"
     ]
    },
    {
     "name": "stdout",
     "output_type": "stream",
     "text": [
      "Starting experimental run with id: 4. \n"
     ]
    },
    {
     "name": "stdout",
     "output_type": "stream",
     "text": [
      "Starting experimental run with id: 5. \n"
     ]
    },
    {
     "name": "stdout",
     "output_type": "stream",
     "text": [
      "Starting experimental run with id: 6. \n",
      "Starting experimental run with id: 7. \n"
     ]
    },
    {
     "name": "stdout",
     "output_type": "stream",
     "text": [
      "Starting experimental run with id: 8. \n"
     ]
    },
    {
     "name": "stdout",
     "output_type": "stream",
     "text": [
      "Starting experimental run with id: 9. \n"
     ]
    },
    {
     "name": "stdout",
     "output_type": "stream",
     "text": [
      "Starting experimental run with id: 10. \n",
      "Starting experimental run with id: 11. \n"
     ]
    },
    {
     "name": "stdout",
     "output_type": "stream",
     "text": [
      "Starting experimental run with id: 12. \n",
      "Starting experimental run with id: 13. \n"
     ]
    },
    {
     "name": "stdout",
     "output_type": "stream",
     "text": [
      "Starting experimental run with id: 14. \n"
     ]
    }
   ],
   "source": [
    "sizes = [1,500,1000,2000,3000,4000,5000]\n",
    "t_numeric = []\n",
    "t_numeric_add = []\n",
    "t_array = []\n",
    "t_array_add = []\n",
    "for size in sizes:\n",
    "    tn, tna, run_id_n =  insert_data('numeric', size)\n",
    "    t_numeric.append(tn)\n",
    "    t_numeric_add.append(tna)\n",
    "\n",
    "    ta, taa, run_id_a =  insert_data('array', size)\n",
    "    t_array.append(ta)\n",
    "    t_array_add.append(taa)"
   ]
  },
  {
   "cell_type": "code",
   "execution_count": 6,
   "metadata": {
    "execution": {
     "iopub.execute_input": "2021-04-08T06:51:36.948643Z",
     "iopub.status.busy": "2021-04-08T06:51:36.935047Z",
     "iopub.status.idle": "2021-04-08T06:51:37.144013Z",
     "shell.execute_reply": "2021-04-08T06:51:37.143424Z"
    }
   },
   "outputs": [
    {
     "data": {
      "image/png": "[encoded data removed]",
      "text/plain": [
       "<Figure size 432x288 with 1 Axes>"
      ]
     },
     "metadata": {
      "needs_background": "light"
     },
     "output_type": "display_data"
    }
   ],
   "source": [
    "fig, ax = plt.subplots(1,1)\n",
    "ax.plot(sizes, t_numeric, 'o-', label='Inserting row-by-row')\n",
    "ax.plot(sizes, t_numeric_add, 'o-', label='Inserting row-by-row: add_result only')\n",
    "ax.plot(sizes, t_array, 'd-', label='Inserting as binary blob')\n",
    "ax.plot(sizes, t_array_add, 'd-', label='Inserting as binary blob: add_result only')\n",
    "ax.legend()\n",
    "ax.set_xlabel('Array length')\n",
    "ax.set_ylabel('Time (s)')\n",
    "fig.tight_layout()"
   ]
  },
  {
   "cell_type": "markdown",
   "metadata": {},
   "source": [
    "As shown in the latter figure, the time to setup and and close the experiment is approximately 0.4 sec. In case of small array sizes, the difference between inserting values of data as arrays and inserting them row-by-row is relatively unimportant. At larger array sizes, i.e. above 10000 points, the cost of writing data as individual datapoints starts to become important.\n"
   ]
  },
  {
   "cell_type": "markdown",
   "metadata": {},
   "source": [
    "### Case2: Long experiment time "
   ]
  },
  {
   "cell_type": "code",
   "execution_count": 7,
   "metadata": {
    "execution": {
     "iopub.execute_input": "2021-04-08T06:51:37.153120Z",
     "iopub.status.busy": "2021-04-08T06:51:37.151943Z",
     "iopub.status.idle": "2021-04-08T06:52:39.629710Z",
     "shell.execute_reply": "2021-04-08T06:52:39.629190Z"
    }
   },
   "outputs": [
    {
     "name": "stdout",
     "output_type": "stream",
     "text": [
      "Starting experimental run with id: 15. \n",
      "Starting experimental run with id: 16. \n"
     ]
    },
    {
     "name": "stdout",
     "output_type": "stream",
     "text": [
      "Starting experimental run with id: 17. \n"
     ]
    },
    {
     "name": "stdout",
     "output_type": "stream",
     "text": [
      "Starting experimental run with id: 18. \n"
     ]
    },
    {
     "name": "stdout",
     "output_type": "stream",
     "text": [
      "Starting experimental run with id: 19. \n"
     ]
    },
    {
     "name": "stdout",
     "output_type": "stream",
     "text": [
      "Starting experimental run with id: 20. \n"
     ]
    },
    {
     "name": "stdout",
     "output_type": "stream",
     "text": [
      "Starting experimental run with id: 21. \n"
     ]
    },
    {
     "name": "stdout",
     "output_type": "stream",
     "text": [
      "Starting experimental run with id: 22. \n"
     ]
    },
    {
     "name": "stdout",
     "output_type": "stream",
     "text": [
      "Starting experimental run with id: 23. \n"
     ]
    },
    {
     "name": "stdout",
     "output_type": "stream",
     "text": [
      "Starting experimental run with id: 24. \n"
     ]
    },
    {
     "name": "stdout",
     "output_type": "stream",
     "text": [
      "Starting experimental run with id: 25. \n"
     ]
    },
    {
     "name": "stdout",
     "output_type": "stream",
     "text": [
      "Starting experimental run with id: 26. \n"
     ]
    },
    {
     "name": "stdout",
     "output_type": "stream",
     "text": [
      "Starting experimental run with id: 27. \n"
     ]
    },
    {
     "name": "stdout",
     "output_type": "stream",
     "text": [
      "Starting experimental run with id: 28. \n"
     ]
    }
   ],
   "source": [
    "sizes = [1,500,1000,2000,3000,4000,5000]\n",
    "nreps = 100\n",
    "t_numeric = []\n",
    "t_numeric_add = []\n",
    "t_numeric_run_ids = []\n",
    "t_array = []\n",
    "t_array_add = []\n",
    "t_array_run_ids = []\n",
    "for size in sizes:\n",
    "    tn, tna, run_id_n =  insert_data('numeric', size, nreps=nreps)\n",
    "    t_numeric.append(tn)\n",
    "    t_numeric_add.append(tna)\n",
    "    t_numeric_run_ids.append(run_id_n)\n",
    "\n",
    "    ta, taa, run_id_a =  insert_data('array', size, nreps=nreps)\n",
    "    t_array.append(ta)\n",
    "    t_array_add.append(taa)\n",
    "    t_array_run_ids.append(run_id_a)"
   ]
  },
  {
   "cell_type": "code",
   "execution_count": 8,
   "metadata": {
    "execution": {
     "iopub.execute_input": "2021-04-08T06:52:39.662313Z",
     "iopub.status.busy": "2021-04-08T06:52:39.649854Z",
     "iopub.status.idle": "2021-04-08T06:52:39.870950Z",
     "shell.execute_reply": "2021-04-08T06:52:39.870459Z"
    },
    "scrolled": true
   },
   "outputs": [
    {
     "data": {
      "image/png": "[encoded data removed]",
      "text/plain": [
       "<Figure size 432x288 with 1 Axes>"
      ]
     },
     "metadata": {
      "needs_background": "light"
     },
     "output_type": "display_data"
    }
   ],
   "source": [
    "fig, ax = plt.subplots(1,1)\n",
    "ax.plot(sizes, t_numeric, 'o-', label='Inserting row-by-row')\n",
    "ax.plot(sizes, t_numeric_add, 'o-', label='Inserting row-by-row: add_result only')\n",
    "ax.plot(sizes, t_array, 'd-', label='Inserting as binary blob')\n",
    "ax.plot(sizes, t_array_add, 'd-', label='Inserting as binary blob: add_result only')\n",
    "ax.legend()\n",
    "ax.set_xlabel('Array length')\n",
    "ax.set_ylabel('Time (s)')\n",
    "fig.tight_layout()"
   ]
  },
  {
   "cell_type": "markdown",
   "metadata": {},
   "source": [
    "However, as we increase the length of the experiment, as seen here by repeating the insertion 100 times, we see a big difference between inserting values of the data row-by-row and inserting it as a binary blob."
   ]
  },
  {
   "cell_type": "markdown",
   "metadata": {},
   "source": [
    "## Loading the data "
   ]
  },
  {
   "cell_type": "code",
   "execution_count": 9,
   "metadata": {
    "execution": {
     "iopub.execute_input": "2021-04-08T06:52:39.876327Z",
     "iopub.status.busy": "2021-04-08T06:52:39.875687Z",
     "iopub.status.idle": "2021-04-08T06:52:39.879802Z",
     "shell.execute_reply": "2021-04-08T06:52:39.879170Z"
    }
   },
   "outputs": [],
   "source": [
    "from qcodes.dataset.data_set import load_by_id\n",
    "from qcodes.dataset.data_export import get_data_by_id"
   ]
  },
  {
   "cell_type": "markdown",
   "metadata": {},
   "source": [
    "As usual you can load the data by using the ``load_by_id`` function but you will notice that the different storage methods\n",
    "are reflected in shape of the data as it is retrieved. "
   ]
  },
  {
   "cell_type": "code",
   "execution_count": 10,
   "metadata": {
    "execution": {
     "iopub.execute_input": "2021-04-08T06:52:39.885896Z",
     "iopub.status.busy": "2021-04-08T06:52:39.884383Z",
     "iopub.status.idle": "2021-04-08T06:52:39.886899Z",
     "shell.execute_reply": "2021-04-08T06:52:39.887586Z"
    }
   },
   "outputs": [],
   "source": [
    "run_id_n = t_numeric_run_ids[0]\n",
    "run_id_a = t_array_run_ids[0]"
   ]
  },
  {
   "cell_type": "code",
   "execution_count": 11,
   "metadata": {
    "execution": {
     "iopub.execute_input": "2021-04-08T06:52:39.891421Z",
     "iopub.status.busy": "2021-04-08T06:52:39.890766Z",
     "iopub.status.idle": "2021-04-08T06:52:39.902693Z",
     "shell.execute_reply": "2021-04-08T06:52:39.901827Z"
    },
    "scrolled": true
   },
   "outputs": [
    {
     "data": {
      "text/plain": [
       "{'x1': {'x1': array([0.93386453, 0.93386453, 0.78805098, 0.78805098, 0.72853895,\n",
       "         0.72853895, 0.17215966, 0.17215966, 0.55749319, 0.55749319,\n",
       "         0.35549223, 0.35549223, 0.66889167, 0.66889167, 0.35870329,\n",
       "         0.35870329, 0.36086279, 0.36086279, 0.95957947, 0.95957947,\n",
       "         0.67460766, 0.67460766, 0.29247682, 0.29247682, 0.73994589,\n",
       "         0.73994589, 0.24136455, 0.24136455, 0.56492587, 0.56492587,\n",
       "         0.50258039, 0.50258039, 0.55268477, 0.55268477, 0.62471357,\n",
       "         0.62471357, 0.76370183, 0.76370183, 0.73871885, 0.73871885,\n",
       "         0.75305824, 0.75305824, 0.32960071, 0.32960071, 0.01546546,\n",
       "         0.01546546, 0.15272599, 0.15272599, 0.95004781, 0.95004781,\n",
       "         0.41364552, 0.41364552, 0.71880646, 0.71880646, 0.48794862,\n",
       "         0.48794862, 0.33759215, 0.33759215, 0.11527005, 0.11527005,\n",
       "         0.75270689, 0.75270689, 0.00720873, 0.00720873, 0.51597783,\n",
       "         0.51597783, 0.1206695 , 0.1206695 , 0.33698421, 0.33698421,\n",
       "         0.41117246, 0.41117246, 0.11701789, 0.11701789, 0.22484731,\n",
       "         0.22484731, 0.2618638 , 0.2618638 , 0.79553121, 0.79553121,\n",
       "         0.21872348, 0.21872348, 0.41599493, 0.41599493, 0.97249476,\n",
       "         0.97249476, 0.6702973 , 0.6702973 , 0.77280398, 0.77280398,\n",
       "         0.46250087, 0.46250087, 0.5921398 , 0.5921398 , 0.43215926,\n",
       "         0.43215926, 0.66988101, 0.66988101, 0.78468589, 0.78468589,\n",
       "         0.4684936 , 0.4684936 , 0.32473925, 0.32473925, 0.62771195,\n",
       "         0.62771195, 0.25102205, 0.25102205, 0.06067194, 0.06067194,\n",
       "         0.30833891, 0.30833891, 0.36344817, 0.36344817, 0.56985651,\n",
       "         0.56985651, 0.57856351, 0.57856351, 0.11562905, 0.11562905,\n",
       "         0.61942855, 0.61942855, 0.01089385, 0.01089385, 0.0330095 ,\n",
       "         0.0330095 , 0.77778821, 0.77778821, 0.50621264, 0.50621264,\n",
       "         0.63644642, 0.63644642, 0.89600729, 0.89600729, 0.71887075,\n",
       "         0.71887075, 0.69147949, 0.69147949, 0.20193629, 0.20193629,\n",
       "         0.91480445, 0.91480445, 0.63518151, 0.63518151, 0.3203367 ,\n",
       "         0.3203367 , 0.29905226, 0.29905226, 0.96319655, 0.96319655,\n",
       "         0.47862395, 0.47862395, 0.13123854, 0.13123854, 0.75743714,\n",
       "         0.75743714, 0.99741757, 0.99741757, 0.47689422, 0.47689422,\n",
       "         0.01333711, 0.01333711, 0.48056161, 0.48056161, 0.32929217,\n",
       "         0.32929217, 0.80250651, 0.80250651, 0.0241316 , 0.0241316 ,\n",
       "         0.5188328 , 0.5188328 , 0.35278428, 0.35278428, 0.28181993,\n",
       "         0.28181993, 0.7236607 , 0.7236607 , 0.30739522, 0.30739522,\n",
       "         0.48802967, 0.48802967, 0.2107499 , 0.2107499 , 0.69119179,\n",
       "         0.69119179, 0.68256555, 0.68256555, 0.59995165, 0.59995165,\n",
       "         0.7591657 , 0.7591657 , 0.33225632, 0.33225632, 0.65940861,\n",
       "         0.65940861, 0.42472628, 0.42472628, 0.15893454, 0.15893454])}}"
      ]
     },
     "execution_count": 1,
     "metadata": {},
     "output_type": "execute_result"
    }
   ],
   "source": [
    "ds = load_by_id(run_id_n)\n",
    "ds.get_parameter_data('x1')"
   ]
  },
  {
   "cell_type": "markdown",
   "metadata": {},
   "source": [
    "And a dataset stored as binary arrays"
   ]
  },
  {
   "cell_type": "code",
   "execution_count": 12,
   "metadata": {
    "execution": {
     "iopub.execute_input": "2021-04-08T06:52:39.906326Z",
     "iopub.status.busy": "2021-04-08T06:52:39.905732Z",
     "iopub.status.idle": "2021-04-08T06:52:39.976976Z",
     "shell.execute_reply": "2021-04-08T06:52:39.976462Z"
    },
    "scrolled": true
   },
   "outputs": [
    {
     "data": {
      "text/plain": [
       "{'x1': {'x1': array([[0.98210049],\n",
       "         [0.98210049],\n",
       "         [0.01011835],\n",
       "         [0.01011835],\n",
       "         [0.51270562],\n",
       "         [0.51270562],\n",
       "         [0.25289204],\n",
       "         [0.25289204],\n",
       "         [0.66201311],\n",
       "         [0.66201311],\n",
       "         [0.54412661],\n",
       "         [0.54412661],\n",
       "         [0.38778794],\n",
       "         [0.38778794],\n",
       "         [0.1049193 ],\n",
       "         [0.1049193 ],\n",
       "         [0.83647198],\n",
       "         [0.83647198],\n",
       "         [0.89912442],\n",
       "         [0.89912442],\n",
       "         [0.44031376],\n",
       "         [0.44031376],\n",
       "         [0.42061756],\n",
       "         [0.42061756],\n",
       "         [0.2618983 ],\n",
       "         [0.2618983 ],\n",
       "         [0.0406299 ],\n",
       "         [0.0406299 ],\n",
       "         [0.09335018],\n",
       "         [0.09335018],\n",
       "         [0.44599837],\n",
       "         [0.44599837],\n",
       "         [0.27136237],\n",
       "         [0.27136237],\n",
       "         [0.59362929],\n",
       "         [0.59362929],\n",
       "         [0.66115789],\n",
       "         [0.66115789],\n",
       "         [0.46432069],\n",
       "         [0.46432069],\n",
       "         [0.89722697],\n",
       "         [0.89722697],\n",
       "         [0.76506192],\n",
       "         [0.76506192],\n",
       "         [0.4945573 ],\n",
       "         [0.4945573 ],\n",
       "         [0.57811834],\n",
       "         [0.57811834],\n",
       "         [0.76266851],\n",
       "         [0.76266851],\n",
       "         [0.80298164],\n",
       "         [0.80298164],\n",
       "         [0.80245505],\n",
       "         [0.80245505],\n",
       "         [0.93785952],\n",
       "         [0.93785952],\n",
       "         [0.17086523],\n",
       "         [0.17086523],\n",
       "         [0.85923684],\n",
       "         [0.85923684],\n",
       "         [0.56688453],\n",
       "         [0.56688453],\n",
       "         [0.6838709 ],\n",
       "         [0.6838709 ],\n",
       "         [0.14814384],\n",
       "         [0.14814384],\n",
       "         [0.66171111],\n",
       "         [0.66171111],\n",
       "         [0.63854346],\n",
       "         [0.63854346],\n",
       "         [0.81383483],\n",
       "         [0.81383483],\n",
       "         [0.09084625],\n",
       "         [0.09084625],\n",
       "         [0.76575503],\n",
       "         [0.76575503],\n",
       "         [0.37139011],\n",
       "         [0.37139011],\n",
       "         [0.50900382],\n",
       "         [0.50900382],\n",
       "         [0.69581135],\n",
       "         [0.69581135],\n",
       "         [0.76202808],\n",
       "         [0.76202808],\n",
       "         [0.68716895],\n",
       "         [0.68716895],\n",
       "         [0.11216839],\n",
       "         [0.11216839],\n",
       "         [0.70120822],\n",
       "         [0.70120822],\n",
       "         [0.84719417],\n",
       "         [0.84719417],\n",
       "         [0.42910281],\n",
       "         [0.42910281],\n",
       "         [0.71843232],\n",
       "         [0.71843232],\n",
       "         [0.69675098],\n",
       "         [0.69675098],\n",
       "         [0.73222273],\n",
       "         [0.73222273],\n",
       "         [0.39072194],\n",
       "         [0.39072194],\n",
       "         [0.07708282],\n",
       "         [0.07708282],\n",
       "         [0.62447673],\n",
       "         [0.62447673],\n",
       "         [0.69027638],\n",
       "         [0.69027638],\n",
       "         [0.37684978],\n",
       "         [0.37684978],\n",
       "         [0.25405758],\n",
       "         [0.25405758],\n",
       "         [0.7226084 ],\n",
       "         [0.7226084 ],\n",
       "         [0.64202243],\n",
       "         [0.64202243],\n",
       "         [0.2953874 ],\n",
       "         [0.2953874 ],\n",
       "         [0.52110904],\n",
       "         [0.52110904],\n",
       "         [0.55507913],\n",
       "         [0.55507913],\n",
       "         [0.28274158],\n",
       "         [0.28274158],\n",
       "         [0.72774065],\n",
       "         [0.72774065],\n",
       "         [0.49715475],\n",
       "         [0.49715475],\n",
       "         [0.25060038],\n",
       "         [0.25060038],\n",
       "         [0.8883507 ],\n",
       "         [0.8883507 ],\n",
       "         [0.70105621],\n",
       "         [0.70105621],\n",
       "         [0.37375261],\n",
       "         [0.37375261],\n",
       "         [0.97106377],\n",
       "         [0.97106377],\n",
       "         [0.44373869],\n",
       "         [0.44373869],\n",
       "         [0.77240095],\n",
       "         [0.77240095],\n",
       "         [0.95608541],\n",
       "         [0.95608541],\n",
       "         [0.12501361],\n",
       "         [0.12501361],\n",
       "         [0.5008695 ],\n",
       "         [0.5008695 ],\n",
       "         [0.77792518],\n",
       "         [0.77792518],\n",
       "         [0.09310301],\n",
       "         [0.09310301],\n",
       "         [0.69665597],\n",
       "         [0.69665597],\n",
       "         [0.52781895],\n",
       "         [0.52781895],\n",
       "         [0.31409591],\n",
       "         [0.31409591],\n",
       "         [0.0020349 ],\n",
       "         [0.0020349 ],\n",
       "         [0.18114309],\n",
       "         [0.18114309],\n",
       "         [0.59321137],\n",
       "         [0.59321137],\n",
       "         [0.29079246],\n",
       "         [0.29079246],\n",
       "         [0.81757638],\n",
       "         [0.81757638],\n",
       "         [0.1033276 ],\n",
       "         [0.1033276 ],\n",
       "         [0.15922841],\n",
       "         [0.15922841],\n",
       "         [0.18667938],\n",
       "         [0.18667938],\n",
       "         [0.00738338],\n",
       "         [0.00738338],\n",
       "         [0.41177351],\n",
       "         [0.41177351],\n",
       "         [0.89772382],\n",
       "         [0.89772382],\n",
       "         [0.81704104],\n",
       "         [0.81704104],\n",
       "         [0.4960553 ],\n",
       "         [0.4960553 ],\n",
       "         [0.28755964],\n",
       "         [0.28755964],\n",
       "         [0.18526566],\n",
       "         [0.18526566],\n",
       "         [0.42293455],\n",
       "         [0.42293455],\n",
       "         [0.97074622],\n",
       "         [0.97074622],\n",
       "         [0.50733142],\n",
       "         [0.50733142],\n",
       "         [0.52820077],\n",
       "         [0.52820077],\n",
       "         [0.48522758],\n",
       "         [0.48522758],\n",
       "         [0.29651614],\n",
       "         [0.29651614]])}}"
      ]
     },
     "execution_count": 1,
     "metadata": {},
     "output_type": "execute_result"
    }
   ],
   "source": [
    "ds = load_by_id(run_id_a)\n",
    "ds.get_parameter_data('x1')"
   ]
  },
  {
   "cell_type": "code",
   "execution_count": null,
   "metadata": {},
   "outputs": [],
   "source": []
  }
 ],
 "metadata": {
  "kernelspec": {
   "display_name": "Python 3",
   "language": "python",
   "name": "python3"
  },
  "language_info": {
   "codemirror_mode": {
    "name": "ipython",
    "version": 3
   },
   "file_extension": ".py",
   "mimetype": "text/x-python",
   "name": "python",
   "nbconvert_exporter": "python",
   "pygments_lexer": "ipython3",
   "version": "3.7.10"
  },
  "nbsphinx": {
   "timeout": 600
  },
  "toc": {
   "base_numbering": 1,
   "nav_menu": {},
   "number_sections": true,
   "sideBar": true,
   "skip_h1_title": false,
   "title_cell": "Table of Contents",
   "title_sidebar": "Contents",
   "toc_cell": false,
   "toc_position": {},
   "toc_section_display": true,
   "toc_window_display": false
  },
  "varInspector": {
   "cols": {
    "lenName": 16,
    "lenType": 16,
    "lenVar": 40
   },
   "kernels_config": {
    "python": {
     "delete_cmd_postfix": "",
     "delete_cmd_prefix": "del ",
     "library": "var_list.py",
     "varRefreshCmd": "print(var_dic_list())"
    },
    "r": {
     "delete_cmd_postfix": ") ",
     "delete_cmd_prefix": "rm(",
     "library": "var_list.r",
     "varRefreshCmd": "cat(var_dic_list()) "
    }
   },
   "types_to_exclude": [
    "module",
    "function",
    "builtin_function_or_method",
    "instance",
    "_Feature"
   ],
   "window_display": false
  }
 },
 "nbformat": 4,
 "nbformat_minor": 2
}
